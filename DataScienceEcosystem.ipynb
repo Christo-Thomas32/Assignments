{
 "cells": [
  {
   "cell_type": "markdown",
   "id": "c9545894-804b-4a8f-afdf-cb69a0dd66a1",
   "metadata": {},
   "source": [
    "# Data Science Tools and Ecosystem"
   ]
  },
  {
   "cell_type": "markdown",
   "id": "1034ed6e-96eb-40a0-aba2-caa587e6f844",
   "metadata": {},
   "source": [
    "In this notebook, Data Science Tools and Ecosystem are summarized."
   ]
  },
  {
   "cell_type": "markdown",
   "id": "b1b8e9e7-5668-44b6-885f-46c19f5fc656",
   "metadata": {},
   "source": [
    "__Objectives:__\n",
    "List of some popular languages for Data Science:\n",
    "- Python\n",
    "- SQL\n",
    "- R\n",
    "- VBA (Visual Basic for Applications)\n",
    "- Julia\n",
    "- JavaScript\n",
    "- Java\n",
    "- Scala\n",
    "- SAS"
   ]
  },
  {
   "cell_type": "markdown",
   "id": "19af9fce-1fbd-4088-9c5d-797afd420e8a",
   "metadata": {},
   "source": [
    "Some of the popular languages that Data Scientists use are:\n",
    "1. Python\n",
    "2. SQL\n",
    "3. R\n",
    "4. VBA (Visual Basic for Applications)\n",
    "5. Julia\n",
    "6. JavaScript\n",
    "7. Java\n",
    "8. Scala\n",
    "9. SAS\n",
    "10. MATLAB\n",
    "11. C/C++\n",
    "12. Swift"
   ]
  },
  {
   "cell_type": "markdown",
   "id": "be29df03-f5dc-4109-8149-cd81b2fac278",
   "metadata": {},
   "source": [
    "Some of the commonly used libraries used by Data Scientists include:\n",
    "\n",
    "1. NumPy\n",
    "2. Keras\n",
    "3. Pandas\n",
    "4. PyTorch\n",
    "5. SciPy\n",
    "6. Scikit-Learn\n",
    "7. TensorFlow\n",
    "8. Matplotlib\n",
    "9. Seaborn\n",
    "10. Theano"
   ]
  },
  {
   "cell_type": "markdown",
   "id": "3cec8ece-12cb-41b3-809f-1b3051028301",
   "metadata": {},
   "source": [
    "| Data Science Tools |\n",
    "| ----- |\n",
    "| Tableau |\n",
    "|Jupyter Notebook|\n",
    "|Python|\n",
    "|SAS|\n",
    "|TensorFlow|\n",
    "|Apache Spark|\n",
    "|R|\n",
    "|Matplotlib|\n",
    "|Scikit-learn|\n",
    "|MATLAB|\n",
    "|KNIME|\n",
    "|PyTorch|\n",
    "|Apache Hadoop|\n",
    "|Microsoft Power BI|\n",
    "|SQL|\n",
    "|Keras|\n",
    "|MongoDB|\n"
   ]
  },
  {
   "cell_type": "markdown",
   "id": "8cf1ae6a-c887-41a7-a10e-0c5feb6f8ac4",
   "metadata": {},
   "source": [
    "### Below are a few examples of evaluating arithmetic expressions in Python"
   ]
  },
  {
   "cell_type": "code",
   "execution_count": 9,
   "id": "bd0fdeda-caad-4c49-98d6-cd70ae01df36",
   "metadata": {
    "scrolled": true
   },
   "outputs": [
    {
     "name": "stdout",
     "output_type": "stream",
     "text": [
      "17\n"
     ]
    }
   ],
   "source": [
    "#This a simple arithmetic expression to multiply then add integers.\n",
    "x=((3*4)+5)\n",
    "print (x)"
   ]
  },
  {
   "cell_type": "code",
   "execution_count": 13,
   "id": "0dcb06ef-21fd-4418-b29b-31b6299b2cd6",
   "metadata": {},
   "outputs": [
    {
     "name": "stdout",
     "output_type": "stream",
     "text": [
      "3.3333333333333335  hours\n"
     ]
    }
   ],
   "source": [
    "#This will convert 200 minutes to hours by dividng by 60.\n",
    "x=200/60\n",
    "print (x, \" hours\")"
   ]
  },
  {
   "cell_type": "markdown",
   "id": "9e95a70a-f926-470f-86d7-9e8a1a221735",
   "metadata": {},
   "source": [
    "## Author\n",
    "Christo Thomas"
   ]
  },
  {
   "cell_type": "code",
   "execution_count": null,
   "id": "f11120fe-2818-42b9-a1c9-3d2dcf5319b5",
   "metadata": {},
   "outputs": [],
   "source": []
  }
 ],
 "metadata": {
  "kernelspec": {
   "display_name": "Python 3 (ipykernel)",
   "language": "python",
   "name": "python3"
  },
  "language_info": {
   "codemirror_mode": {
    "name": "ipython",
    "version": 3
   },
   "file_extension": ".py",
   "mimetype": "text/x-python",
   "name": "python",
   "nbconvert_exporter": "python",
   "pygments_lexer": "ipython3",
   "version": "3.12.2"
  }
 },
 "nbformat": 4,
 "nbformat_minor": 5
}
